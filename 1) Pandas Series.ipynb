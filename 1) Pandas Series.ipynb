{
 "cells": [
  {
   "cell_type": "code",
   "execution_count": 1,
   "id": "c18b5a5b-2994-4a9c-88d1-82db5ff6bbbe",
   "metadata": {},
   "outputs": [],
   "source": [
    "import pandas as pd\n",
    "import numpy as np"
   ]
  },
  {
   "cell_type": "markdown",
   "id": "ae22cc43",
   "metadata": {},
   "source": [
    "Pandas Series - like a table column - 1 dimensional array holding any type of data"
   ]
  },
  {
   "cell_type": "code",
   "execution_count": 2,
   "id": "7e6fc5ee",
   "metadata": {},
   "outputs": [
    {
     "data": {
      "text/plain": [
       "0    51\n",
       "1    15\n",
       "2    71\n",
       "3    72\n",
       "dtype: int64"
      ]
     },
     "execution_count": 2,
     "metadata": {},
     "output_type": "execute_result"
    }
   ],
   "source": [
    "my_series = [51,15,71,72]\n",
    "my_var = pd.Series(my_series)\n",
    "my_var"
   ]
  },
  {
   "cell_type": "markdown",
   "id": "a6f171d3",
   "metadata": {},
   "source": [
    "Print spesific variable (index starts from 0)"
   ]
  },
  {
   "cell_type": "code",
   "execution_count": 3,
   "id": "cc0132ff",
   "metadata": {},
   "outputs": [
    {
     "data": {
      "text/plain": [
       "71"
      ]
     },
     "execution_count": 3,
     "metadata": {},
     "output_type": "execute_result"
    }
   ],
   "source": [
    "my_var[2]"
   ]
  },
  {
   "cell_type": "markdown",
   "id": "fd981f31",
   "metadata": {},
   "source": [
    "Labels using the table arguement. ( You can use shift+tab for info in jupyter )"
   ]
  },
  {
   "cell_type": "code",
   "execution_count": 7,
   "id": "dce9b08e",
   "metadata": {},
   "outputs": [
    {
     "data": {
      "text/plain": [
       "A    51\n",
       "B    15\n",
       "C    71\n",
       "D    72\n",
       "dtype: int64"
      ]
     },
     "execution_count": 7,
     "metadata": {},
     "output_type": "execute_result"
    }
   ],
   "source": [
    "my_index = [\"A\",\"B\",\"C\",\"D\"]\n",
    "my_var2 = pd.Series(my_series,my_index)\n",
    "my_var2"
   ]
  },
  {
   "cell_type": "code",
   "execution_count": 8,
   "id": "5daf4177",
   "metadata": {},
   "outputs": [
    {
     "data": {
      "text/plain": [
       "15"
      ]
     },
     "execution_count": 8,
     "metadata": {},
     "output_type": "execute_result"
    }
   ],
   "source": [
    "my_var2[\"B\"]"
   ]
  },
  {
   "cell_type": "markdown",
   "id": "bd371a94",
   "metadata": {},
   "source": [
    "Key-Value Dictionary"
   ]
  },
  {
   "cell_type": "code",
   "execution_count": 9,
   "id": "2a4ea874",
   "metadata": {},
   "outputs": [
    {
     "data": {
      "text/plain": [
       "Tesla       12\n",
       "Mercedes    42\n",
       "BMW          3\n",
       "dtype: int64"
      ]
     },
     "execution_count": 9,
     "metadata": {},
     "output_type": "execute_result"
    }
   ],
   "source": [
    "cars = {\"Tesla\":12, \"Mercedes\": 42, \"BMW\": 3}\n",
    "my_var3 = pd.Series(cars)\n",
    "my_var3"
   ]
  }
 ],
 "metadata": {
  "kernelspec": {
   "display_name": "Python 3 (ipykernel)",
   "language": "python",
   "name": "python3"
  },
  "language_info": {
   "codemirror_mode": {
    "name": "ipython",
    "version": 3
   },
   "file_extension": ".py",
   "mimetype": "text/x-python",
   "name": "python",
   "nbconvert_exporter": "python",
   "pygments_lexer": "ipython3",
   "version": "3.11.0"
  }
 },
 "nbformat": 4,
 "nbformat_minor": 5
}
