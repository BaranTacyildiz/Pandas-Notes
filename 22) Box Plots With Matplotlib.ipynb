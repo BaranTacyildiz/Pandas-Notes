{
 "cells": [
  {
   "cell_type": "code",
   "execution_count": 1,
   "metadata": {},
   "outputs": [
    {
     "data": {
      "text/html": [
       "<div>\n",
       "<style scoped>\n",
       "    .dataframe tbody tr th:only-of-type {\n",
       "        vertical-align: middle;\n",
       "    }\n",
       "\n",
       "    .dataframe tbody tr th {\n",
       "        vertical-align: top;\n",
       "    }\n",
       "\n",
       "    .dataframe thead th {\n",
       "        text-align: right;\n",
       "    }\n",
       "</style>\n",
       "<table border=\"1\" class=\"dataframe\">\n",
       "  <thead>\n",
       "    <tr style=\"text-align: right;\">\n",
       "      <th></th>\n",
       "      <th>Mon</th>\n",
       "      <th>Tues</th>\n",
       "      <th>Wed</th>\n",
       "      <th>Thur</th>\n",
       "    </tr>\n",
       "  </thead>\n",
       "  <tbody>\n",
       "    <tr>\n",
       "      <th>0</th>\n",
       "      <td>0.319246</td>\n",
       "      <td>-0.931978</td>\n",
       "      <td>0.365918</td>\n",
       "      <td>0.945922</td>\n",
       "    </tr>\n",
       "    <tr>\n",
       "      <th>1</th>\n",
       "      <td>0.020252</td>\n",
       "      <td>-0.353966</td>\n",
       "      <td>0.965324</td>\n",
       "      <td>-1.564417</td>\n",
       "    </tr>\n",
       "    <tr>\n",
       "      <th>2</th>\n",
       "      <td>0.392243</td>\n",
       "      <td>1.290760</td>\n",
       "      <td>0.358667</td>\n",
       "      <td>0.266652</td>\n",
       "    </tr>\n",
       "    <tr>\n",
       "      <th>3</th>\n",
       "      <td>-0.249255</td>\n",
       "      <td>-0.671374</td>\n",
       "      <td>-1.734737</td>\n",
       "      <td>-1.919970</td>\n",
       "    </tr>\n",
       "    <tr>\n",
       "      <th>4</th>\n",
       "      <td>1.792757</td>\n",
       "      <td>-0.661500</td>\n",
       "      <td>1.607203</td>\n",
       "      <td>-1.191563</td>\n",
       "    </tr>\n",
       "    <tr>\n",
       "      <th>5</th>\n",
       "      <td>1.293369</td>\n",
       "      <td>1.607421</td>\n",
       "      <td>0.051107</td>\n",
       "      <td>-0.830990</td>\n",
       "    </tr>\n",
       "    <tr>\n",
       "      <th>6</th>\n",
       "      <td>-0.680349</td>\n",
       "      <td>1.331083</td>\n",
       "      <td>-0.953984</td>\n",
       "      <td>-0.662920</td>\n",
       "    </tr>\n",
       "    <tr>\n",
       "      <th>7</th>\n",
       "      <td>-0.733254</td>\n",
       "      <td>-1.319234</td>\n",
       "      <td>-0.209368</td>\n",
       "      <td>-0.054611</td>\n",
       "    </tr>\n",
       "    <tr>\n",
       "      <th>8</th>\n",
       "      <td>-1.371649</td>\n",
       "      <td>1.464324</td>\n",
       "      <td>1.303545</td>\n",
       "      <td>-0.672167</td>\n",
       "    </tr>\n",
       "    <tr>\n",
       "      <th>9</th>\n",
       "      <td>0.115313</td>\n",
       "      <td>1.221868</td>\n",
       "      <td>1.121904</td>\n",
       "      <td>2.210404</td>\n",
       "    </tr>\n",
       "    <tr>\n",
       "      <th>10</th>\n",
       "      <td>-1.638108</td>\n",
       "      <td>-1.028519</td>\n",
       "      <td>0.958042</td>\n",
       "      <td>0.374055</td>\n",
       "    </tr>\n",
       "    <tr>\n",
       "      <th>11</th>\n",
       "      <td>1.525930</td>\n",
       "      <td>1.275805</td>\n",
       "      <td>0.810064</td>\n",
       "      <td>-1.444976</td>\n",
       "    </tr>\n",
       "    <tr>\n",
       "      <th>12</th>\n",
       "      <td>0.220893</td>\n",
       "      <td>1.668437</td>\n",
       "      <td>0.245561</td>\n",
       "      <td>1.911895</td>\n",
       "    </tr>\n",
       "    <tr>\n",
       "      <th>13</th>\n",
       "      <td>-0.896747</td>\n",
       "      <td>1.119974</td>\n",
       "      <td>0.875535</td>\n",
       "      <td>-0.554673</td>\n",
       "    </tr>\n",
       "    <tr>\n",
       "      <th>14</th>\n",
       "      <td>0.423182</td>\n",
       "      <td>-0.285207</td>\n",
       "      <td>-0.515720</td>\n",
       "      <td>0.879965</td>\n",
       "    </tr>\n",
       "    <tr>\n",
       "      <th>15</th>\n",
       "      <td>0.969000</td>\n",
       "      <td>0.586315</td>\n",
       "      <td>-0.614661</td>\n",
       "      <td>0.536996</td>\n",
       "    </tr>\n",
       "    <tr>\n",
       "      <th>16</th>\n",
       "      <td>0.051798</td>\n",
       "      <td>-0.157505</td>\n",
       "      <td>0.156236</td>\n",
       "      <td>-1.352385</td>\n",
       "    </tr>\n",
       "    <tr>\n",
       "      <th>17</th>\n",
       "      <td>2.002845</td>\n",
       "      <td>0.776530</td>\n",
       "      <td>2.001891</td>\n",
       "      <td>-1.538390</td>\n",
       "    </tr>\n",
       "    <tr>\n",
       "      <th>18</th>\n",
       "      <td>-0.125506</td>\n",
       "      <td>0.500864</td>\n",
       "      <td>-0.073183</td>\n",
       "      <td>-1.250255</td>\n",
       "    </tr>\n",
       "    <tr>\n",
       "      <th>19</th>\n",
       "      <td>0.627098</td>\n",
       "      <td>1.864157</td>\n",
       "      <td>1.810045</td>\n",
       "      <td>-1.033142</td>\n",
       "    </tr>\n",
       "    <tr>\n",
       "      <th>20</th>\n",
       "      <td>-0.243163</td>\n",
       "      <td>-0.465416</td>\n",
       "      <td>-0.529677</td>\n",
       "      <td>-0.929147</td>\n",
       "    </tr>\n",
       "    <tr>\n",
       "      <th>21</th>\n",
       "      <td>-0.875769</td>\n",
       "      <td>-0.603052</td>\n",
       "      <td>1.024558</td>\n",
       "      <td>1.411232</td>\n",
       "    </tr>\n",
       "    <tr>\n",
       "      <th>22</th>\n",
       "      <td>1.347159</td>\n",
       "      <td>-1.047263</td>\n",
       "      <td>0.903050</td>\n",
       "      <td>2.451941</td>\n",
       "    </tr>\n",
       "    <tr>\n",
       "      <th>23</th>\n",
       "      <td>0.274641</td>\n",
       "      <td>-0.795685</td>\n",
       "      <td>0.675716</td>\n",
       "      <td>-0.018064</td>\n",
       "    </tr>\n",
       "    <tr>\n",
       "      <th>24</th>\n",
       "      <td>-1.157576</td>\n",
       "      <td>-1.499316</td>\n",
       "      <td>-0.225628</td>\n",
       "      <td>0.093155</td>\n",
       "    </tr>\n",
       "    <tr>\n",
       "      <th>25</th>\n",
       "      <td>0.312091</td>\n",
       "      <td>-2.474213</td>\n",
       "      <td>0.268497</td>\n",
       "      <td>-0.024813</td>\n",
       "    </tr>\n",
       "    <tr>\n",
       "      <th>26</th>\n",
       "      <td>0.189971</td>\n",
       "      <td>0.596534</td>\n",
       "      <td>0.350229</td>\n",
       "      <td>-0.716163</td>\n",
       "    </tr>\n",
       "    <tr>\n",
       "      <th>27</th>\n",
       "      <td>-1.871534</td>\n",
       "      <td>1.310481</td>\n",
       "      <td>-0.128289</td>\n",
       "      <td>0.271680</td>\n",
       "    </tr>\n",
       "    <tr>\n",
       "      <th>28</th>\n",
       "      <td>-0.274870</td>\n",
       "      <td>0.743966</td>\n",
       "      <td>0.792456</td>\n",
       "      <td>0.072543</td>\n",
       "    </tr>\n",
       "    <tr>\n",
       "      <th>29</th>\n",
       "      <td>-0.027199</td>\n",
       "      <td>-0.337683</td>\n",
       "      <td>-0.059976</td>\n",
       "      <td>-0.024029</td>\n",
       "    </tr>\n",
       "    <tr>\n",
       "      <th>30</th>\n",
       "      <td>1.547817</td>\n",
       "      <td>-0.614967</td>\n",
       "      <td>-1.705080</td>\n",
       "      <td>-1.503672</td>\n",
       "    </tr>\n",
       "    <tr>\n",
       "      <th>31</th>\n",
       "      <td>1.266929</td>\n",
       "      <td>1.496455</td>\n",
       "      <td>-0.143968</td>\n",
       "      <td>-0.339547</td>\n",
       "    </tr>\n",
       "    <tr>\n",
       "      <th>32</th>\n",
       "      <td>-0.960252</td>\n",
       "      <td>0.544157</td>\n",
       "      <td>1.152634</td>\n",
       "      <td>-1.032524</td>\n",
       "    </tr>\n",
       "    <tr>\n",
       "      <th>33</th>\n",
       "      <td>-0.433710</td>\n",
       "      <td>1.944011</td>\n",
       "      <td>-0.146459</td>\n",
       "      <td>1.205751</td>\n",
       "    </tr>\n",
       "    <tr>\n",
       "      <th>34</th>\n",
       "      <td>-0.391248</td>\n",
       "      <td>-1.016464</td>\n",
       "      <td>-0.075219</td>\n",
       "      <td>0.580112</td>\n",
       "    </tr>\n",
       "    <tr>\n",
       "      <th>35</th>\n",
       "      <td>0.029437</td>\n",
       "      <td>1.151806</td>\n",
       "      <td>-1.207666</td>\n",
       "      <td>-0.076801</td>\n",
       "    </tr>\n",
       "    <tr>\n",
       "      <th>36</th>\n",
       "      <td>0.213610</td>\n",
       "      <td>-1.047496</td>\n",
       "      <td>-0.246493</td>\n",
       "      <td>-0.487935</td>\n",
       "    </tr>\n",
       "    <tr>\n",
       "      <th>37</th>\n",
       "      <td>1.643826</td>\n",
       "      <td>0.461674</td>\n",
       "      <td>1.305427</td>\n",
       "      <td>-1.008875</td>\n",
       "    </tr>\n",
       "    <tr>\n",
       "      <th>38</th>\n",
       "      <td>1.123990</td>\n",
       "      <td>0.110442</td>\n",
       "      <td>1.181478</td>\n",
       "      <td>0.256578</td>\n",
       "    </tr>\n",
       "    <tr>\n",
       "      <th>39</th>\n",
       "      <td>-0.678787</td>\n",
       "      <td>-1.816961</td>\n",
       "      <td>1.002644</td>\n",
       "      <td>0.860217</td>\n",
       "    </tr>\n",
       "    <tr>\n",
       "      <th>40</th>\n",
       "      <td>0.641799</td>\n",
       "      <td>-0.433745</td>\n",
       "      <td>-1.035203</td>\n",
       "      <td>0.767289</td>\n",
       "    </tr>\n",
       "    <tr>\n",
       "      <th>41</th>\n",
       "      <td>0.289714</td>\n",
       "      <td>2.973567</td>\n",
       "      <td>0.750125</td>\n",
       "      <td>-0.588094</td>\n",
       "    </tr>\n",
       "    <tr>\n",
       "      <th>42</th>\n",
       "      <td>1.197479</td>\n",
       "      <td>0.580258</td>\n",
       "      <td>-0.646714</td>\n",
       "      <td>-0.280217</td>\n",
       "    </tr>\n",
       "    <tr>\n",
       "      <th>43</th>\n",
       "      <td>1.206023</td>\n",
       "      <td>-0.556211</td>\n",
       "      <td>1.420254</td>\n",
       "      <td>-0.406819</td>\n",
       "    </tr>\n",
       "    <tr>\n",
       "      <th>44</th>\n",
       "      <td>1.263194</td>\n",
       "      <td>0.837387</td>\n",
       "      <td>0.387318</td>\n",
       "      <td>-0.966131</td>\n",
       "    </tr>\n",
       "    <tr>\n",
       "      <th>45</th>\n",
       "      <td>-1.018392</td>\n",
       "      <td>2.351054</td>\n",
       "      <td>-0.542037</td>\n",
       "      <td>0.723584</td>\n",
       "    </tr>\n",
       "    <tr>\n",
       "      <th>46</th>\n",
       "      <td>1.120761</td>\n",
       "      <td>0.386394</td>\n",
       "      <td>-0.390949</td>\n",
       "      <td>1.180144</td>\n",
       "    </tr>\n",
       "    <tr>\n",
       "      <th>47</th>\n",
       "      <td>-0.087252</td>\n",
       "      <td>-0.141961</td>\n",
       "      <td>-0.465525</td>\n",
       "      <td>0.202966</td>\n",
       "    </tr>\n",
       "    <tr>\n",
       "      <th>48</th>\n",
       "      <td>0.826202</td>\n",
       "      <td>0.618244</td>\n",
       "      <td>0.034248</td>\n",
       "      <td>1.079491</td>\n",
       "    </tr>\n",
       "    <tr>\n",
       "      <th>49</th>\n",
       "      <td>-1.059179</td>\n",
       "      <td>-1.195015</td>\n",
       "      <td>-0.139268</td>\n",
       "      <td>0.021363</td>\n",
       "    </tr>\n",
       "  </tbody>\n",
       "</table>\n",
       "</div>"
      ],
      "text/plain": [
       "         Mon      Tues       Wed      Thur\n",
       "0   0.319246 -0.931978  0.365918  0.945922\n",
       "1   0.020252 -0.353966  0.965324 -1.564417\n",
       "2   0.392243  1.290760  0.358667  0.266652\n",
       "3  -0.249255 -0.671374 -1.734737 -1.919970\n",
       "4   1.792757 -0.661500  1.607203 -1.191563\n",
       "5   1.293369  1.607421  0.051107 -0.830990\n",
       "6  -0.680349  1.331083 -0.953984 -0.662920\n",
       "7  -0.733254 -1.319234 -0.209368 -0.054611\n",
       "8  -1.371649  1.464324  1.303545 -0.672167\n",
       "9   0.115313  1.221868  1.121904  2.210404\n",
       "10 -1.638108 -1.028519  0.958042  0.374055\n",
       "11  1.525930  1.275805  0.810064 -1.444976\n",
       "12  0.220893  1.668437  0.245561  1.911895\n",
       "13 -0.896747  1.119974  0.875535 -0.554673\n",
       "14  0.423182 -0.285207 -0.515720  0.879965\n",
       "15  0.969000  0.586315 -0.614661  0.536996\n",
       "16  0.051798 -0.157505  0.156236 -1.352385\n",
       "17  2.002845  0.776530  2.001891 -1.538390\n",
       "18 -0.125506  0.500864 -0.073183 -1.250255\n",
       "19  0.627098  1.864157  1.810045 -1.033142\n",
       "20 -0.243163 -0.465416 -0.529677 -0.929147\n",
       "21 -0.875769 -0.603052  1.024558  1.411232\n",
       "22  1.347159 -1.047263  0.903050  2.451941\n",
       "23  0.274641 -0.795685  0.675716 -0.018064\n",
       "24 -1.157576 -1.499316 -0.225628  0.093155\n",
       "25  0.312091 -2.474213  0.268497 -0.024813\n",
       "26  0.189971  0.596534  0.350229 -0.716163\n",
       "27 -1.871534  1.310481 -0.128289  0.271680\n",
       "28 -0.274870  0.743966  0.792456  0.072543\n",
       "29 -0.027199 -0.337683 -0.059976 -0.024029\n",
       "30  1.547817 -0.614967 -1.705080 -1.503672\n",
       "31  1.266929  1.496455 -0.143968 -0.339547\n",
       "32 -0.960252  0.544157  1.152634 -1.032524\n",
       "33 -0.433710  1.944011 -0.146459  1.205751\n",
       "34 -0.391248 -1.016464 -0.075219  0.580112\n",
       "35  0.029437  1.151806 -1.207666 -0.076801\n",
       "36  0.213610 -1.047496 -0.246493 -0.487935\n",
       "37  1.643826  0.461674  1.305427 -1.008875\n",
       "38  1.123990  0.110442  1.181478  0.256578\n",
       "39 -0.678787 -1.816961  1.002644  0.860217\n",
       "40  0.641799 -0.433745 -1.035203  0.767289\n",
       "41  0.289714  2.973567  0.750125 -0.588094\n",
       "42  1.197479  0.580258 -0.646714 -0.280217\n",
       "43  1.206023 -0.556211  1.420254 -0.406819\n",
       "44  1.263194  0.837387  0.387318 -0.966131\n",
       "45 -1.018392  2.351054 -0.542037  0.723584\n",
       "46  1.120761  0.386394 -0.390949  1.180144\n",
       "47 -0.087252 -0.141961 -0.465525  0.202966\n",
       "48  0.826202  0.618244  0.034248  1.079491\n",
       "49 -1.059179 -1.195015 -0.139268  0.021363"
      ]
     },
     "execution_count": 1,
     "metadata": {},
     "output_type": "execute_result"
    }
   ],
   "source": [
    "import pandas as pd\n",
    "import numpy as np\n",
    "from numpy.random import randn\n",
    "%matplotlib inline\n",
    "\n",
    "# Create a quick dataFrame\n",
    "my_df = pd.DataFrame(randn(50,4),columns = [\"Mon\",\"Tues\",\"Wed\",\"Thur\"])\n",
    "my_df"
   ]
  },
  {
   "cell_type": "code",
   "execution_count": 5,
   "metadata": {},
   "outputs": [
    {
     "data": {
      "text/plain": [
       "<Axes: >"
      ]
     },
     "execution_count": 5,
     "metadata": {},
     "output_type": "execute_result"
    },
    {
     "data": {
      "image/png": "[encoded data removed]",
      "text/plain": [
       "<Figure size 640x480 with 1 Axes>"
      ]
     },
     "metadata": {},
     "output_type": "display_data"
    }
   ],
   "source": [
    "# Create box plot\n",
    "my_df.plot(kind=\"box\")"
   ]
  },
  {
   "cell_type": "code",
   "execution_count": 6,
   "metadata": {},
   "outputs": [
    {
     "data": {
      "text/plain": [
       "<Axes: >"
      ]
     },
     "execution_count": 6,
     "metadata": {},
     "output_type": "execute_result"
    },
    {
     "data": {
      "image/png": "[encoded data removed]",
      "text/plain": [
       "<Figure size 1000x500 with 1 Axes>"
      ]
     },
     "metadata": {},
     "output_type": "display_data"
    }
   ],
   "source": [
    "# Box plots size\n",
    "my_df.plot(kind=\"box\",figsize=(10,5))"
   ]
  },
  {
   "cell_type": "code",
   "execution_count": 17,
   "metadata": {},
   "outputs": [
    {
     "data": {
      "text/plain": [
       "<Axes: >"
      ]
     },
     "execution_count": 17,
     "metadata": {},
     "output_type": "execute_result"
    },
    {
     "data": {
      "image/png": "[encoded data removed]",
      "text/plain": [
       "<Figure size 640x480 with 1 Axes>"
      ]
     },
     "metadata": {},
     "output_type": "display_data"
    }
   ],
   "source": [
    "# Box plots color\n",
    "my_df.plot(kind=\"box\",cmap=\"plasma\")"
   ]
  },
  {
   "cell_type": "code",
   "execution_count": 18,
   "metadata": {},
   "outputs": [
    {
     "data": {
      "text/plain": [
       "<Axes: >"
      ]
     },
     "execution_count": 18,
     "metadata": {},
     "output_type": "execute_result"
    },
    {
     "data": {
      "image/png": "[encoded data removed]",
      "text/plain": [
       "<Figure size 640x480 with 1 Axes>"
      ]
     },
     "metadata": {},
     "output_type": "display_data"
    }
   ],
   "source": [
    "# No Legend\n",
    "my_df.plot(kind=\"box\",legend=True)"
   ]
  },
  {
   "cell_type": "code",
   "execution_count": 19,
   "metadata": {},
   "outputs": [
    {
     "data": {
      "text/plain": [
       "<Axes: title={'center': 'My Box Plot'}>"
      ]
     },
     "execution_count": 19,
     "metadata": {},
     "output_type": "execute_result"
    },
    {
     "data": {
      "image/png": "[encoded data removed]",
      "text/plain": [
       "<Figure size 640x480 with 1 Axes>"
      ]
     },
     "metadata": {},
     "output_type": "display_data"
    }
   ],
   "source": [
    "# Title\n",
    "my_df.plot(kind=\"box\",title=\"My Box Plot\")"
   ]
  },
  {
   "cell_type": "code",
   "execution_count": 21,
   "metadata": {},
   "outputs": [
    {
     "data": {
      "text/plain": [
       "<Axes: >"
      ]
     },
     "execution_count": 21,
     "metadata": {},
     "output_type": "execute_result"
    },
    {
     "data": {
      "image/png": "[encoded data removed]",
      "text/plain": [
       "<Figure size 640x480 with 1 Axes>"
      ]
     },
     "metadata": {},
     "output_type": "display_data"
    }
   ],
   "source": [
    "# Other way\n",
    "my_df.plot.box()"
   ]
  },
  {
   "cell_type": "code",
   "execution_count": 23,
   "metadata": {},
   "outputs": [
    {
     "data": {
      "text/plain": [
       "<Axes: >"
      ]
     },
     "execution_count": 23,
     "metadata": {},
     "output_type": "execute_result"
    },
    {
     "data": {
      "image/png": "[encoded data removed]",
      "text/plain": [
       "<Figure size 640x480 with 1 Axes>"
      ]
     },
     "metadata": {},
     "output_type": "display_data"
    },
    {
     "data": {
      "image/png": "[encoded data removed]",
      "text/plain": [
       "<Figure size 640x480 with 1 Axes>"
      ]
     },
     "metadata": {},
     "output_type": "display_data"
    }
   ],
   "source": [
    "# Add grid\n",
    "my_df.plot.box(grid=True)\n",
    "# my_df.plot(kind=\"box\",grid=True)"
   ]
  }
 ],
 "metadata": {
  "kernelspec": {
   "display_name": "Python 3",
   "language": "python",
   "name": "python3"
  },
  "language_info": {
   "codemirror_mode": {
    "name": "ipython",
    "version": 3
   },
   "file_extension": ".py",
   "mimetype": "text/x-python",
   "name": "python",
   "nbconvert_exporter": "python",
   "pygments_lexer": "ipython3",
   "version": "3.11.0"
  }
 },
 "nbformat": 4,
 "nbformat_minor": 2
}
