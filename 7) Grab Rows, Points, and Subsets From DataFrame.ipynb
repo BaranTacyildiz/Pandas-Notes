{
 "cells": [
  {
   "cell_type": "code",
   "execution_count": 1,
   "metadata": {},
   "outputs": [
    {
     "data": {
      "text/html": [
       "<div>\n",
       "<style scoped>\n",
       "    .dataframe tbody tr th:only-of-type {\n",
       "        vertical-align: middle;\n",
       "    }\n",
       "\n",
       "    .dataframe tbody tr th {\n",
       "        vertical-align: top;\n",
       "    }\n",
       "\n",
       "    .dataframe thead th {\n",
       "        text-align: right;\n",
       "    }\n",
       "</style>\n",
       "<table border=\"1\" class=\"dataframe\">\n",
       "  <thead>\n",
       "    <tr style=\"text-align: right;\">\n",
       "      <th></th>\n",
       "      <th>Year</th>\n",
       "      <th>Dog_name</th>\n",
       "      <th>Breed</th>\n",
       "      <th>Gender</th>\n",
       "      <th>Suburb</th>\n",
       "    </tr>\n",
       "  </thead>\n",
       "  <tbody>\n",
       "    <tr>\n",
       "      <th>0</th>\n",
       "      <td>2008</td>\n",
       "      <td>ALFIE</td>\n",
       "      <td>JACK RUSSELL TERRIER</td>\n",
       "      <td>DESEXED MALE</td>\n",
       "      <td>NORTH ADELAIDE</td>\n",
       "    </tr>\n",
       "    <tr>\n",
       "      <th>1</th>\n",
       "      <td>2008</td>\n",
       "      <td>ALICE</td>\n",
       "      <td>FOX TERRIER WIRE</td>\n",
       "      <td>DESEXED FEMALE</td>\n",
       "      <td>NORTH ADELAIDE</td>\n",
       "    </tr>\n",
       "    <tr>\n",
       "      <th>2</th>\n",
       "      <td>2008</td>\n",
       "      <td>ARCHIBALD</td>\n",
       "      <td>GERMAN SHEPHERD DOG CROSS</td>\n",
       "      <td>DESEXED MALE</td>\n",
       "      <td>NORTH ADELAIDE</td>\n",
       "    </tr>\n",
       "    <tr>\n",
       "      <th>3</th>\n",
       "      <td>2008</td>\n",
       "      <td>Archie</td>\n",
       "      <td>AIREDALE TERRIER</td>\n",
       "      <td>MALE</td>\n",
       "      <td>NORTH ADELAIDE</td>\n",
       "    </tr>\n",
       "    <tr>\n",
       "      <th>4</th>\n",
       "      <td>2008</td>\n",
       "      <td>ARCHIE</td>\n",
       "      <td>PUG</td>\n",
       "      <td>MALE</td>\n",
       "      <td>NORTH ADELAIDE</td>\n",
       "    </tr>\n",
       "  </tbody>\n",
       "</table>\n",
       "</div>"
      ],
      "text/plain": [
       "   Year   Dog_name                      Breed          Gender          Suburb\n",
       "0  2008      ALFIE       JACK RUSSELL TERRIER    DESEXED MALE  NORTH ADELAIDE\n",
       "1  2008      ALICE           FOX TERRIER WIRE  DESEXED FEMALE  NORTH ADELAIDE\n",
       "2  2008  ARCHIBALD  GERMAN SHEPHERD DOG CROSS    DESEXED MALE  NORTH ADELAIDE\n",
       "3  2008     Archie           AIREDALE TERRIER            MALE  NORTH ADELAIDE\n",
       "4  2008     ARCHIE                        PUG            MALE  NORTH ADELAIDE"
      ]
     },
     "execution_count": 1,
     "metadata": {},
     "output_type": "execute_result"
    }
   ],
   "source": [
    "import pandas as pd\n",
    "import numpy as np\n",
    "my_df = pd.read_csv(\"all_years_short.csv\")\n",
    "my_df"
   ]
  },
  {
   "cell_type": "code",
   "execution_count": 2,
   "metadata": {},
   "outputs": [
    {
     "data": {
      "text/plain": [
       "Year                             2008\n",
       "Dog_name                    ARCHIBALD\n",
       "Breed       GERMAN SHEPHERD DOG CROSS\n",
       "Gender                   DESEXED MALE\n",
       "Suburb                 NORTH ADELAIDE\n",
       "Name: 2, dtype: object"
      ]
     },
     "execution_count": 2,
     "metadata": {},
     "output_type": "execute_result"
    }
   ],
   "source": [
    "# Grab row method 1) Location\n",
    "my_df.loc[2]"
   ]
  },
  {
   "cell_type": "code",
   "execution_count": 5,
   "metadata": {},
   "outputs": [
    {
     "data": {
      "text/plain": [
       "Year                             2008\n",
       "Dog_name                    ARCHIBALD\n",
       "Breed       GERMAN SHEPHERD DOG CROSS\n",
       "Gender                   DESEXED MALE\n",
       "Suburb                 NORTH ADELAIDE\n",
       "Name: 2, dtype: object"
      ]
     },
     "execution_count": 5,
     "metadata": {},
     "output_type": "execute_result"
    }
   ],
   "source": [
    "# Grab row method 2) Index Location\n",
    "my_df.iloc[2]"
   ]
  },
  {
   "cell_type": "code",
   "execution_count": 6,
   "metadata": {},
   "outputs": [
    {
     "data": {
      "text/plain": [
       "'FOX TERRIER WIRE'"
      ]
     },
     "execution_count": 6,
     "metadata": {},
     "output_type": "execute_result"
    }
   ],
   "source": [
    "# Spesific Points ( row and columns)\n",
    "# my_df.loc[\"Row\",\"Column\"]\n",
    "my_df.loc[1,\"Breed\"]"
   ]
  },
  {
   "cell_type": "code",
   "execution_count": 10,
   "metadata": {},
   "outputs": [
    {
     "data": {
      "text/html": [
       "<div>\n",
       "<style scoped>\n",
       "    .dataframe tbody tr th:only-of-type {\n",
       "        vertical-align: middle;\n",
       "    }\n",
       "\n",
       "    .dataframe tbody tr th {\n",
       "        vertical-align: top;\n",
       "    }\n",
       "\n",
       "    .dataframe thead th {\n",
       "        text-align: right;\n",
       "    }\n",
       "</style>\n",
       "<table border=\"1\" class=\"dataframe\">\n",
       "  <thead>\n",
       "    <tr style=\"text-align: right;\">\n",
       "      <th></th>\n",
       "      <th>Breed</th>\n",
       "      <th>Suburb</th>\n",
       "    </tr>\n",
       "  </thead>\n",
       "  <tbody>\n",
       "    <tr>\n",
       "      <th>1</th>\n",
       "      <td>FOX TERRIER WIRE</td>\n",
       "      <td>NORTH ADELAIDE</td>\n",
       "    </tr>\n",
       "    <tr>\n",
       "      <th>2</th>\n",
       "      <td>GERMAN SHEPHERD DOG CROSS</td>\n",
       "      <td>NORTH ADELAIDE</td>\n",
       "    </tr>\n",
       "    <tr>\n",
       "      <th>3</th>\n",
       "      <td>AIREDALE TERRIER</td>\n",
       "      <td>NORTH ADELAIDE</td>\n",
       "    </tr>\n",
       "  </tbody>\n",
       "</table>\n",
       "</div>"
      ],
      "text/plain": [
       "                       Breed          Suburb\n",
       "1           FOX TERRIER WIRE  NORTH ADELAIDE\n",
       "2  GERMAN SHEPHERD DOG CROSS  NORTH ADELAIDE\n",
       "3           AIREDALE TERRIER  NORTH ADELAIDE"
      ]
     },
     "execution_count": 10,
     "metadata": {},
     "output_type": "execute_result"
    }
   ],
   "source": [
    "# Subsets\n",
    "# my_df.loc[[\"row\",\"row\"],[\"column\",\"column\"]]\n",
    "my_df.loc[[1,2,3],[\"Breed\",\"Suburb\"]]"
   ]
  }
 ],
 "metadata": {
  "kernelspec": {
   "display_name": "Python 3",
   "language": "python",
   "name": "python3"
  },
  "language_info": {
   "codemirror_mode": {
    "name": "ipython",
    "version": 3
   },
   "file_extension": ".py",
   "mimetype": "text/x-python",
   "name": "python",
   "nbconvert_exporter": "python",
   "pygments_lexer": "ipython3",
   "version": "3.11.0"
  }
 },
 "nbformat": 4,
 "nbformat_minor": 2
}
