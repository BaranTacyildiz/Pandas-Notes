{
 "cells": [
  {
   "cell_type": "code",
   "execution_count": 1,
   "metadata": {},
   "outputs": [
    {
     "data": {
      "text/html": [
       "<div>\n",
       "<style scoped>\n",
       "    .dataframe tbody tr th:only-of-type {\n",
       "        vertical-align: middle;\n",
       "    }\n",
       "\n",
       "    .dataframe tbody tr th {\n",
       "        vertical-align: top;\n",
       "    }\n",
       "\n",
       "    .dataframe thead th {\n",
       "        text-align: right;\n",
       "    }\n",
       "</style>\n",
       "<table border=\"1\" class=\"dataframe\">\n",
       "  <thead>\n",
       "    <tr style=\"text-align: right;\">\n",
       "      <th></th>\n",
       "      <th>Year</th>\n",
       "      <th>Dog_name</th>\n",
       "      <th>Breed</th>\n",
       "      <th>Gender</th>\n",
       "      <th>Suburb</th>\n",
       "    </tr>\n",
       "  </thead>\n",
       "  <tbody>\n",
       "    <tr>\n",
       "      <th>0</th>\n",
       "      <td>2008</td>\n",
       "      <td>ALFIE</td>\n",
       "      <td>JACK RUSSELL TERRIER</td>\n",
       "      <td>DESEXED MALE</td>\n",
       "      <td>NORTH ADELAIDE</td>\n",
       "    </tr>\n",
       "    <tr>\n",
       "      <th>1</th>\n",
       "      <td>2008</td>\n",
       "      <td>ALICE</td>\n",
       "      <td>FOX TERRIER WIRE</td>\n",
       "      <td>DESEXED FEMALE</td>\n",
       "      <td>NORTH ADELAIDE</td>\n",
       "    </tr>\n",
       "    <tr>\n",
       "      <th>2</th>\n",
       "      <td>2008</td>\n",
       "      <td>ARCHIBALD</td>\n",
       "      <td>GERMAN SHEPHERD DOG CROSS</td>\n",
       "      <td>DESEXED MALE</td>\n",
       "      <td>NORTH ADELAIDE</td>\n",
       "    </tr>\n",
       "    <tr>\n",
       "      <th>3</th>\n",
       "      <td>2008</td>\n",
       "      <td>Archie</td>\n",
       "      <td>AIREDALE TERRIER</td>\n",
       "      <td>MALE</td>\n",
       "      <td>NORTH ADELAIDE</td>\n",
       "    </tr>\n",
       "    <tr>\n",
       "      <th>4</th>\n",
       "      <td>2008</td>\n",
       "      <td>ARCHIE</td>\n",
       "      <td>PUG</td>\n",
       "      <td>MALE</td>\n",
       "      <td>NORTH ADELAIDE</td>\n",
       "    </tr>\n",
       "    <tr>\n",
       "      <th>...</th>\n",
       "      <td>...</td>\n",
       "      <td>...</td>\n",
       "      <td>...</td>\n",
       "      <td>...</td>\n",
       "      <td>...</td>\n",
       "    </tr>\n",
       "    <tr>\n",
       "      <th>1889</th>\n",
       "      <td>2012</td>\n",
       "      <td>ZOE</td>\n",
       "      <td>GERMAN SHEPHERD DOG</td>\n",
       "      <td>DESEXED FEMALE</td>\n",
       "      <td>NORTH ADELAIDE</td>\n",
       "    </tr>\n",
       "    <tr>\n",
       "      <th>1890</th>\n",
       "      <td>2012</td>\n",
       "      <td>ZOOEY</td>\n",
       "      <td>BOXER</td>\n",
       "      <td>FEMALE</td>\n",
       "      <td>NORTH ADELAIDE</td>\n",
       "    </tr>\n",
       "    <tr>\n",
       "      <th>1891</th>\n",
       "      <td>2012</td>\n",
       "      <td>ZSA ZSA</td>\n",
       "      <td>POMERANIAN</td>\n",
       "      <td>FEMALE</td>\n",
       "      <td>ADELAIDE</td>\n",
       "    </tr>\n",
       "    <tr>\n",
       "      <th>1892</th>\n",
       "      <td>2012</td>\n",
       "      <td>ZSA ZSA</td>\n",
       "      <td>CAVALIER KING CHARLES SPANIEL</td>\n",
       "      <td>FEMALE</td>\n",
       "      <td>ADELAIDE</td>\n",
       "    </tr>\n",
       "    <tr>\n",
       "      <th>1893</th>\n",
       "      <td>2012</td>\n",
       "      <td>ZSA ZSA</td>\n",
       "      <td>CAVALIER KING CHARLES SPANIEL</td>\n",
       "      <td>FEMALE</td>\n",
       "      <td>NORTH ADELAIDE</td>\n",
       "    </tr>\n",
       "  </tbody>\n",
       "</table>\n",
       "<p>1894 rows × 5 columns</p>\n",
       "</div>"
      ],
      "text/plain": [
       "      Year   Dog_name                          Breed          Gender  \\\n",
       "0     2008      ALFIE           JACK RUSSELL TERRIER    DESEXED MALE   \n",
       "1     2008      ALICE               FOX TERRIER WIRE  DESEXED FEMALE   \n",
       "2     2008  ARCHIBALD      GERMAN SHEPHERD DOG CROSS    DESEXED MALE   \n",
       "3     2008     Archie               AIREDALE TERRIER            MALE   \n",
       "4     2008     ARCHIE                            PUG            MALE   \n",
       "...    ...        ...                            ...             ...   \n",
       "1889  2012        ZOE            GERMAN SHEPHERD DOG  DESEXED FEMALE   \n",
       "1890  2012      ZOOEY                          BOXER          FEMALE   \n",
       "1891  2012    ZSA ZSA                     POMERANIAN          FEMALE   \n",
       "1892  2012    ZSA ZSA  CAVALIER KING CHARLES SPANIEL          FEMALE   \n",
       "1893  2012    ZSA ZSA  CAVALIER KING CHARLES SPANIEL          FEMALE   \n",
       "\n",
       "              Suburb  \n",
       "0     NORTH ADELAIDE  \n",
       "1     NORTH ADELAIDE  \n",
       "2     NORTH ADELAIDE  \n",
       "3     NORTH ADELAIDE  \n",
       "4     NORTH ADELAIDE  \n",
       "...              ...  \n",
       "1889  NORTH ADELAIDE  \n",
       "1890  NORTH ADELAIDE  \n",
       "1891        ADELAIDE  \n",
       "1892        ADELAIDE  \n",
       "1893  NORTH ADELAIDE  \n",
       "\n",
       "[1894 rows x 5 columns]"
      ]
     },
     "execution_count": 1,
     "metadata": {},
     "output_type": "execute_result"
    }
   ],
   "source": [
    "import pandas as pd\n",
    "import numpy as np\n",
    "my_df = pd.read_csv('all_years.csv')\n",
    "my_df"
   ]
  },
  {
   "cell_type": "code",
   "execution_count": 5,
   "metadata": {},
   "outputs": [
    {
     "data": {
      "text/plain": [
       "Dog_name\n",
       "MAX                   56\n",
       "CHARLIE               32\n",
       "JACK                  27\n",
       "RALPH                 25\n",
       "LUCY                  25\n",
       "                      ..\n",
       "HUTCHI COOPE-BAKER     1\n",
       "JAZ                    1\n",
       "BABY                   1\n",
       "JESSY                  1\n",
       "ZOOEY                  1\n",
       "Name: count, Length: 366, dtype: int64"
      ]
     },
     "execution_count": 5,
     "metadata": {},
     "output_type": "execute_result"
    }
   ],
   "source": [
    "# Count value - Descending\n",
    "my_df[\"Dog_name\"].value_counts()"
   ]
  },
  {
   "cell_type": "code",
   "execution_count": 7,
   "metadata": {},
   "outputs": [
    {
     "data": {
      "text/plain": [
       "Dog_name\n",
       "ZOOEY                  1\n",
       "HUGO-HUGGY             1\n",
       "HUTCHI COOPE-BAKER     1\n",
       "JAZ                    1\n",
       "JEDD                   1\n",
       "                      ..\n",
       "LUCY                  25\n",
       "RALPH                 25\n",
       "JACK                  27\n",
       "CHARLIE               32\n",
       "MAX                   56\n",
       "Name: count, Length: 366, dtype: int64"
      ]
     },
     "execution_count": 7,
     "metadata": {},
     "output_type": "execute_result"
    }
   ],
   "source": [
    "# Count Distinc values - Ascending\n",
    "my_df[\"Dog_name\"].value_counts(ascending=True)"
   ]
  },
  {
   "cell_type": "code",
   "execution_count": null,
   "metadata": {},
   "outputs": [],
   "source": [
    "# Without NaN\n",
    "my_df[\"Dog_name\"].value_counts()"
   ]
  },
  {
   "cell_type": "code",
   "execution_count": 8,
   "metadata": {},
   "outputs": [
    {
     "data": {
      "text/plain": [
       "Dog_name\n",
       "MAX                   56\n",
       "CHARLIE               32\n",
       "JACK                  27\n",
       "RALPH                 25\n",
       "LUCY                  25\n",
       "                      ..\n",
       "HUTCHI COOPE-BAKER     1\n",
       "JAZ                    1\n",
       "BABY                   1\n",
       "JESSY                  1\n",
       "ZOOEY                  1\n",
       "Name: count, Length: 366, dtype: int64"
      ]
     },
     "execution_count": 8,
     "metadata": {},
     "output_type": "execute_result"
    }
   ],
   "source": [
    "# Wit NaN\n",
    "my_df[\"Dog_name\"].value_counts(dropna=False)"
   ]
  },
  {
   "cell_type": "code",
   "execution_count": 10,
   "metadata": {},
   "outputs": [
    {
     "data": {
      "text/plain": [
       "Dog_name\n",
       "MAX                   0.029567\n",
       "CHARLIE               0.016895\n",
       "JACK                  0.014256\n",
       "RALPH                 0.013200\n",
       "LUCY                  0.013200\n",
       "                        ...   \n",
       "HUTCHI COOPE-BAKER    0.000528\n",
       "JAZ                   0.000528\n",
       "BABY                  0.000528\n",
       "JESSY                 0.000528\n",
       "ZOOEY                 0.000528\n",
       "Name: proportion, Length: 366, dtype: float64"
      ]
     },
     "execution_count": 10,
     "metadata": {},
     "output_type": "execute_result"
    }
   ],
   "source": [
    "# Count Distinct Frequency - Percentage\n",
    "my_df[\"Dog_name\"].value_counts(normalize=True)"
   ]
  },
  {
   "cell_type": "code",
   "execution_count": 11,
   "metadata": {},
   "outputs": [
    {
     "data": {
      "text/plain": [
       "32"
      ]
     },
     "execution_count": 11,
     "metadata": {},
     "output_type": "execute_result"
    }
   ],
   "source": [
    "# Count Spesific Item\n",
    "my_df[\"Dog_name\"].value_counts()[\"CHARLIE\"]"
   ]
  },
  {
   "cell_type": "code",
   "execution_count": 13,
   "metadata": {},
   "outputs": [
    {
     "data": {
      "text/plain": [
       "Dog_name\n",
       "ABBY        4\n",
       "ACE         2\n",
       "AISHA       5\n",
       "ALBERT      2\n",
       "ALFIE       8\n",
       "           ..\n",
       "ZEUS        5\n",
       "ZOE        10\n",
       "ZOOEY       1\n",
       "ZSA ZSA    10\n",
       "oscar       4\n",
       "Length: 366, dtype: int64"
      ]
     },
     "execution_count": 13,
     "metadata": {},
     "output_type": "execute_result"
    }
   ],
   "source": [
    "# Count unique values - size\n",
    "my_df.groupby(\"Dog_name\").size()\n",
    "# alpabethically ordered"
   ]
  },
  {
   "cell_type": "code",
   "execution_count": 14,
   "metadata": {},
   "outputs": [
    {
     "data": {
      "text/html": [
       "<div>\n",
       "<style scoped>\n",
       "    .dataframe tbody tr th:only-of-type {\n",
       "        vertical-align: middle;\n",
       "    }\n",
       "\n",
       "    .dataframe tbody tr th {\n",
       "        vertical-align: top;\n",
       "    }\n",
       "\n",
       "    .dataframe thead th {\n",
       "        text-align: right;\n",
       "    }\n",
       "</style>\n",
       "<table border=\"1\" class=\"dataframe\">\n",
       "  <thead>\n",
       "    <tr style=\"text-align: right;\">\n",
       "      <th></th>\n",
       "      <th>Year</th>\n",
       "      <th>Breed</th>\n",
       "      <th>Gender</th>\n",
       "      <th>Suburb</th>\n",
       "    </tr>\n",
       "    <tr>\n",
       "      <th>Dog_name</th>\n",
       "      <th></th>\n",
       "      <th></th>\n",
       "      <th></th>\n",
       "      <th></th>\n",
       "    </tr>\n",
       "  </thead>\n",
       "  <tbody>\n",
       "    <tr>\n",
       "      <th>ABBY</th>\n",
       "      <td>4</td>\n",
       "      <td>4</td>\n",
       "      <td>4</td>\n",
       "      <td>4</td>\n",
       "    </tr>\n",
       "    <tr>\n",
       "      <th>ACE</th>\n",
       "      <td>2</td>\n",
       "      <td>2</td>\n",
       "      <td>2</td>\n",
       "      <td>2</td>\n",
       "    </tr>\n",
       "    <tr>\n",
       "      <th>AISHA</th>\n",
       "      <td>5</td>\n",
       "      <td>5</td>\n",
       "      <td>5</td>\n",
       "      <td>5</td>\n",
       "    </tr>\n",
       "    <tr>\n",
       "      <th>ALBERT</th>\n",
       "      <td>2</td>\n",
       "      <td>2</td>\n",
       "      <td>2</td>\n",
       "      <td>2</td>\n",
       "    </tr>\n",
       "    <tr>\n",
       "      <th>ALFIE</th>\n",
       "      <td>8</td>\n",
       "      <td>8</td>\n",
       "      <td>8</td>\n",
       "      <td>8</td>\n",
       "    </tr>\n",
       "    <tr>\n",
       "      <th>...</th>\n",
       "      <td>...</td>\n",
       "      <td>...</td>\n",
       "      <td>...</td>\n",
       "      <td>...</td>\n",
       "    </tr>\n",
       "    <tr>\n",
       "      <th>ZEUS</th>\n",
       "      <td>5</td>\n",
       "      <td>5</td>\n",
       "      <td>5</td>\n",
       "      <td>5</td>\n",
       "    </tr>\n",
       "    <tr>\n",
       "      <th>ZOE</th>\n",
       "      <td>10</td>\n",
       "      <td>10</td>\n",
       "      <td>10</td>\n",
       "      <td>10</td>\n",
       "    </tr>\n",
       "    <tr>\n",
       "      <th>ZOOEY</th>\n",
       "      <td>1</td>\n",
       "      <td>1</td>\n",
       "      <td>1</td>\n",
       "      <td>1</td>\n",
       "    </tr>\n",
       "    <tr>\n",
       "      <th>ZSA ZSA</th>\n",
       "      <td>10</td>\n",
       "      <td>10</td>\n",
       "      <td>10</td>\n",
       "      <td>10</td>\n",
       "    </tr>\n",
       "    <tr>\n",
       "      <th>oscar</th>\n",
       "      <td>4</td>\n",
       "      <td>4</td>\n",
       "      <td>4</td>\n",
       "      <td>4</td>\n",
       "    </tr>\n",
       "  </tbody>\n",
       "</table>\n",
       "<p>366 rows × 4 columns</p>\n",
       "</div>"
      ],
      "text/plain": [
       "          Year  Breed  Gender  Suburb\n",
       "Dog_name                             \n",
       "ABBY         4      4       4       4\n",
       "ACE          2      2       2       2\n",
       "AISHA        5      5       5       5\n",
       "ALBERT       2      2       2       2\n",
       "ALFIE        8      8       8       8\n",
       "...        ...    ...     ...     ...\n",
       "ZEUS         5      5       5       5\n",
       "ZOE         10     10      10      10\n",
       "ZOOEY        1      1       1       1\n",
       "ZSA ZSA     10     10      10      10\n",
       "oscar        4      4       4       4\n",
       "\n",
       "[366 rows x 4 columns]"
      ]
     },
     "execution_count": 14,
     "metadata": {},
     "output_type": "execute_result"
    }
   ],
   "source": [
    "# Count unique values - count\n",
    "my_df.groupby(\"Dog_name\").count()\n",
    "# alpabethically ordered"
   ]
  },
  {
   "cell_type": "code",
   "execution_count": 17,
   "metadata": {},
   "outputs": [
    {
     "name": "stderr",
     "output_type": "stream",
     "text": [
      "C:\\Users\\Baran Taçyıldız\\AppData\\Local\\Temp\\ipykernel_6076\\2309818473.py:2: FutureWarning: pandas.value_counts is deprecated and will be removed in a future version. Use pd.Series(obj).value_counts() instead.\n",
      "  my_df.apply(pd.value_counts)\n",
      "C:\\Users\\Baran Taçyıldız\\AppData\\Local\\Temp\\ipykernel_6076\\2309818473.py:2: FutureWarning: pandas.value_counts is deprecated and will be removed in a future version. Use pd.Series(obj).value_counts() instead.\n",
      "  my_df.apply(pd.value_counts)\n",
      "C:\\Users\\Baran Taçyıldız\\AppData\\Local\\Temp\\ipykernel_6076\\2309818473.py:2: FutureWarning: pandas.value_counts is deprecated and will be removed in a future version. Use pd.Series(obj).value_counts() instead.\n",
      "  my_df.apply(pd.value_counts)\n",
      "C:\\Users\\Baran Taçyıldız\\AppData\\Local\\Temp\\ipykernel_6076\\2309818473.py:2: FutureWarning: pandas.value_counts is deprecated and will be removed in a future version. Use pd.Series(obj).value_counts() instead.\n",
      "  my_df.apply(pd.value_counts)\n"
     ]
    },
    {
     "ename": "TypeError",
     "evalue": "'<' not supported between instances of 'str' and 'int'",
     "output_type": "error",
     "traceback": [
      "\u001b[1;31m---------------------------------------------------------------------------\u001b[0m",
      "\u001b[1;31mTypeError\u001b[0m                                 Traceback (most recent call last)",
      "\u001b[1;32mc:\\Users\\Baran Taçyıldız\\Desktop\\Pandas\\4) How To Count Data In A DataFrame .ipynb Cell 10\u001b[0m line \u001b[0;36m2\n\u001b[0;32m      <a href='vscode-notebook-cell:/c%3A/Users/Baran%20Ta%C3%A7y%C4%B1ld%C4%B1z/Desktop/Pandas/4%29%20How%20To%20Count%20Data%20In%20A%20DataFrame%20.ipynb#X12sZmlsZQ%3D%3D?line=0'>1</a>\u001b[0m \u001b[39m# Get a count of all column across all columns\u001b[39;00m\n\u001b[1;32m----> <a href='vscode-notebook-cell:/c%3A/Users/Baran%20Ta%C3%A7y%C4%B1ld%C4%B1z/Desktop/Pandas/4%29%20How%20To%20Count%20Data%20In%20A%20DataFrame%20.ipynb#X12sZmlsZQ%3D%3D?line=1'>2</a>\u001b[0m my_df\u001b[39m.\u001b[39;49mapply(pd\u001b[39m.\u001b[39;49mvalue_counts)\n",
      "File \u001b[1;32mc:\\Users\\Baran Taçyıldız\\AppData\\Local\\Programs\\Python\\Python311\\Lib\\site-packages\\pandas\\core\\frame.py:10037\u001b[0m, in \u001b[0;36mDataFrame.apply\u001b[1;34m(self, func, axis, raw, result_type, args, by_row, **kwargs)\u001b[0m\n\u001b[0;32m  10025\u001b[0m \u001b[39mfrom\u001b[39;00m \u001b[39mpandas\u001b[39;00m\u001b[39m.\u001b[39;00m\u001b[39mcore\u001b[39;00m\u001b[39m.\u001b[39;00m\u001b[39mapply\u001b[39;00m \u001b[39mimport\u001b[39;00m frame_apply\n\u001b[0;32m  10027\u001b[0m op \u001b[39m=\u001b[39m frame_apply(\n\u001b[0;32m  10028\u001b[0m     \u001b[39mself\u001b[39m,\n\u001b[0;32m  10029\u001b[0m     func\u001b[39m=\u001b[39mfunc,\n\u001b[1;32m   (...)\u001b[0m\n\u001b[0;32m  10035\u001b[0m     kwargs\u001b[39m=\u001b[39mkwargs,\n\u001b[0;32m  10036\u001b[0m )\n\u001b[1;32m> 10037\u001b[0m \u001b[39mreturn\u001b[39;00m op\u001b[39m.\u001b[39;49mapply()\u001b[39m.\u001b[39m__finalize__(\u001b[39mself\u001b[39m, method\u001b[39m=\u001b[39m\u001b[39m\"\u001b[39m\u001b[39mapply\u001b[39m\u001b[39m\"\u001b[39m)\n",
      "File \u001b[1;32mc:\\Users\\Baran Taçyıldız\\AppData\\Local\\Programs\\Python\\Python311\\Lib\\site-packages\\pandas\\core\\apply.py:837\u001b[0m, in \u001b[0;36mFrameApply.apply\u001b[1;34m(self)\u001b[0m\n\u001b[0;32m    834\u001b[0m \u001b[39melif\u001b[39;00m \u001b[39mself\u001b[39m\u001b[39m.\u001b[39mraw:\n\u001b[0;32m    835\u001b[0m     \u001b[39mreturn\u001b[39;00m \u001b[39mself\u001b[39m\u001b[39m.\u001b[39mapply_raw()\n\u001b[1;32m--> 837\u001b[0m \u001b[39mreturn\u001b[39;00m \u001b[39mself\u001b[39;49m\u001b[39m.\u001b[39;49mapply_standard()\n",
      "File \u001b[1;32mc:\\Users\\Baran Taçyıldız\\AppData\\Local\\Programs\\Python\\Python311\\Lib\\site-packages\\pandas\\core\\apply.py:966\u001b[0m, in \u001b[0;36mFrameApply.apply_standard\u001b[1;34m(self)\u001b[0m\n\u001b[0;32m    963\u001b[0m results, res_index \u001b[39m=\u001b[39m \u001b[39mself\u001b[39m\u001b[39m.\u001b[39mapply_series_generator()\n\u001b[0;32m    965\u001b[0m \u001b[39m# wrap results\u001b[39;00m\n\u001b[1;32m--> 966\u001b[0m \u001b[39mreturn\u001b[39;00m \u001b[39mself\u001b[39;49m\u001b[39m.\u001b[39;49mwrap_results(results, res_index)\n",
      "File \u001b[1;32mc:\\Users\\Baran Taçyıldız\\AppData\\Local\\Programs\\Python\\Python311\\Lib\\site-packages\\pandas\\core\\apply.py:992\u001b[0m, in \u001b[0;36mFrameApply.wrap_results\u001b[1;34m(self, results, res_index)\u001b[0m\n\u001b[0;32m    990\u001b[0m \u001b[39m# see if we can infer the results\u001b[39;00m\n\u001b[0;32m    991\u001b[0m \u001b[39mif\u001b[39;00m \u001b[39mlen\u001b[39m(results) \u001b[39m>\u001b[39m \u001b[39m0\u001b[39m \u001b[39mand\u001b[39;00m \u001b[39m0\u001b[39m \u001b[39min\u001b[39;00m results \u001b[39mand\u001b[39;00m is_sequence(results[\u001b[39m0\u001b[39m]):\n\u001b[1;32m--> 992\u001b[0m     \u001b[39mreturn\u001b[39;00m \u001b[39mself\u001b[39;49m\u001b[39m.\u001b[39;49mwrap_results_for_axis(results, res_index)\n\u001b[0;32m    994\u001b[0m \u001b[39m# dict of scalars\u001b[39;00m\n\u001b[0;32m    995\u001b[0m \n\u001b[0;32m    996\u001b[0m \u001b[39m# the default dtype of an empty Series is `object`, but this\u001b[39;00m\n\u001b[0;32m    997\u001b[0m \u001b[39m# code can be hit by df.mean() where the result should have dtype\u001b[39;00m\n\u001b[0;32m    998\u001b[0m \u001b[39m# float64 even if it's an empty Series.\u001b[39;00m\n\u001b[0;32m    999\u001b[0m constructor_sliced \u001b[39m=\u001b[39m \u001b[39mself\u001b[39m\u001b[39m.\u001b[39mobj\u001b[39m.\u001b[39m_constructor_sliced\n",
      "File \u001b[1;32mc:\\Users\\Baran Taçyıldız\\AppData\\Local\\Programs\\Python\\Python311\\Lib\\site-packages\\pandas\\core\\apply.py:1055\u001b[0m, in \u001b[0;36mFrameRowApply.wrap_results_for_axis\u001b[1;34m(self, results, res_index)\u001b[0m\n\u001b[0;32m   1052\u001b[0m     \u001b[39mreturn\u001b[39;00m res\n\u001b[0;32m   1054\u001b[0m \u001b[39mtry\u001b[39;00m:\n\u001b[1;32m-> 1055\u001b[0m     result \u001b[39m=\u001b[39m \u001b[39mself\u001b[39;49m\u001b[39m.\u001b[39;49mobj\u001b[39m.\u001b[39;49m_constructor(data\u001b[39m=\u001b[39;49mresults)\n\u001b[0;32m   1056\u001b[0m \u001b[39mexcept\u001b[39;00m \u001b[39mValueError\u001b[39;00m \u001b[39mas\u001b[39;00m err:\n\u001b[0;32m   1057\u001b[0m     \u001b[39mif\u001b[39;00m \u001b[39m\"\u001b[39m\u001b[39mAll arrays must be of the same length\u001b[39m\u001b[39m\"\u001b[39m \u001b[39min\u001b[39;00m \u001b[39mstr\u001b[39m(err):\n\u001b[0;32m   1058\u001b[0m         \u001b[39m# e.g. result = [[2, 3], [1.5], ['foo', 'bar']]\u001b[39;00m\n\u001b[0;32m   1059\u001b[0m         \u001b[39m#  see test_agg_listlike_result GH#29587\u001b[39;00m\n",
      "File \u001b[1;32mc:\\Users\\Baran Taçyıldız\\AppData\\Local\\Programs\\Python\\Python311\\Lib\\site-packages\\pandas\\core\\frame.py:736\u001b[0m, in \u001b[0;36mDataFrame.__init__\u001b[1;34m(self, data, index, columns, dtype, copy)\u001b[0m\n\u001b[0;32m    730\u001b[0m     mgr \u001b[39m=\u001b[39m \u001b[39mself\u001b[39m\u001b[39m.\u001b[39m_init_mgr(\n\u001b[0;32m    731\u001b[0m         data, axes\u001b[39m=\u001b[39m{\u001b[39m\"\u001b[39m\u001b[39mindex\u001b[39m\u001b[39m\"\u001b[39m: index, \u001b[39m\"\u001b[39m\u001b[39mcolumns\u001b[39m\u001b[39m\"\u001b[39m: columns}, dtype\u001b[39m=\u001b[39mdtype, copy\u001b[39m=\u001b[39mcopy\n\u001b[0;32m    732\u001b[0m     )\n\u001b[0;32m    734\u001b[0m \u001b[39melif\u001b[39;00m \u001b[39misinstance\u001b[39m(data, \u001b[39mdict\u001b[39m):\n\u001b[0;32m    735\u001b[0m     \u001b[39m# GH#38939 de facto copy defaults to False only in non-dict cases\u001b[39;00m\n\u001b[1;32m--> 736\u001b[0m     mgr \u001b[39m=\u001b[39m dict_to_mgr(data, index, columns, dtype\u001b[39m=\u001b[39;49mdtype, copy\u001b[39m=\u001b[39;49mcopy, typ\u001b[39m=\u001b[39;49mmanager)\n\u001b[0;32m    737\u001b[0m \u001b[39melif\u001b[39;00m \u001b[39misinstance\u001b[39m(data, ma\u001b[39m.\u001b[39mMaskedArray):\n\u001b[0;32m    738\u001b[0m     \u001b[39mfrom\u001b[39;00m \u001b[39mnumpy\u001b[39;00m\u001b[39m.\u001b[39;00m\u001b[39mma\u001b[39;00m \u001b[39mimport\u001b[39;00m mrecords\n",
      "File \u001b[1;32mc:\\Users\\Baran Taçyıldız\\AppData\\Local\\Programs\\Python\\Python311\\Lib\\site-packages\\pandas\\core\\internals\\construction.py:503\u001b[0m, in \u001b[0;36mdict_to_mgr\u001b[1;34m(data, index, columns, dtype, typ, copy)\u001b[0m\n\u001b[0;32m    499\u001b[0m     \u001b[39melse\u001b[39;00m:\n\u001b[0;32m    500\u001b[0m         \u001b[39m# dtype check to exclude e.g. range objects, scalars\u001b[39;00m\n\u001b[0;32m    501\u001b[0m         arrays \u001b[39m=\u001b[39m [x\u001b[39m.\u001b[39mcopy() \u001b[39mif\u001b[39;00m \u001b[39mhasattr\u001b[39m(x, \u001b[39m\"\u001b[39m\u001b[39mdtype\u001b[39m\u001b[39m\"\u001b[39m) \u001b[39melse\u001b[39;00m x \u001b[39mfor\u001b[39;00m x \u001b[39min\u001b[39;00m arrays]\n\u001b[1;32m--> 503\u001b[0m \u001b[39mreturn\u001b[39;00m arrays_to_mgr(arrays, columns, index, dtype\u001b[39m=\u001b[39;49mdtype, typ\u001b[39m=\u001b[39;49mtyp, consolidate\u001b[39m=\u001b[39;49mcopy)\n",
      "File \u001b[1;32mc:\\Users\\Baran Taçyıldız\\AppData\\Local\\Programs\\Python\\Python311\\Lib\\site-packages\\pandas\\core\\internals\\construction.py:114\u001b[0m, in \u001b[0;36marrays_to_mgr\u001b[1;34m(arrays, columns, index, dtype, verify_integrity, typ, consolidate)\u001b[0m\n\u001b[0;32m    111\u001b[0m \u001b[39mif\u001b[39;00m verify_integrity:\n\u001b[0;32m    112\u001b[0m     \u001b[39m# figure out the index, if necessary\u001b[39;00m\n\u001b[0;32m    113\u001b[0m     \u001b[39mif\u001b[39;00m index \u001b[39mis\u001b[39;00m \u001b[39mNone\u001b[39;00m:\n\u001b[1;32m--> 114\u001b[0m         index \u001b[39m=\u001b[39m _extract_index(arrays)\n\u001b[0;32m    115\u001b[0m     \u001b[39melse\u001b[39;00m:\n\u001b[0;32m    116\u001b[0m         index \u001b[39m=\u001b[39m ensure_index(index)\n",
      "File \u001b[1;32mc:\\Users\\Baran Taçyıldız\\AppData\\Local\\Programs\\Python\\Python311\\Lib\\site-packages\\pandas\\core\\internals\\construction.py:670\u001b[0m, in \u001b[0;36m_extract_index\u001b[1;34m(data)\u001b[0m\n\u001b[0;32m    667\u001b[0m     \u001b[39mraise\u001b[39;00m \u001b[39mValueError\u001b[39;00m(\u001b[39m\"\u001b[39m\u001b[39mIf using all scalar values, you must pass an index\u001b[39m\u001b[39m\"\u001b[39m)\n\u001b[0;32m    669\u001b[0m \u001b[39mif\u001b[39;00m have_series:\n\u001b[1;32m--> 670\u001b[0m     index \u001b[39m=\u001b[39m union_indexes(indexes)\n\u001b[0;32m    671\u001b[0m \u001b[39melif\u001b[39;00m have_dicts:\n\u001b[0;32m    672\u001b[0m     index \u001b[39m=\u001b[39m union_indexes(indexes, sort\u001b[39m=\u001b[39m\u001b[39mFalse\u001b[39;00m)\n",
      "File \u001b[1;32mc:\\Users\\Baran Taçyıldız\\AppData\\Local\\Programs\\Python\\Python311\\Lib\\site-packages\\pandas\\core\\indexes\\api.py:312\u001b[0m, in \u001b[0;36munion_indexes\u001b[1;34m(indexes, sort)\u001b[0m\n\u001b[0;32m    310\u001b[0m index \u001b[39m=\u001b[39m indexes[\u001b[39m0\u001b[39m]\n\u001b[0;32m    311\u001b[0m \u001b[39mif\u001b[39;00m \u001b[39mnot\u001b[39;00m \u001b[39mall\u001b[39m(index\u001b[39m.\u001b[39mequals(other) \u001b[39mfor\u001b[39;00m other \u001b[39min\u001b[39;00m indexes[\u001b[39m1\u001b[39m:]):\n\u001b[1;32m--> 312\u001b[0m     index \u001b[39m=\u001b[39m _unique_indices(indexes, dtype)\n\u001b[0;32m    314\u001b[0m name \u001b[39m=\u001b[39m get_unanimous_names(\u001b[39m*\u001b[39mindexes)[\u001b[39m0\u001b[39m]\n\u001b[0;32m    315\u001b[0m \u001b[39mif\u001b[39;00m name \u001b[39m!=\u001b[39m index\u001b[39m.\u001b[39mname:\n",
      "File \u001b[1;32mc:\\Users\\Baran Taçyıldız\\AppData\\Local\\Programs\\Python\\Python311\\Lib\\site-packages\\pandas\\core\\indexes\\api.py:245\u001b[0m, in \u001b[0;36munion_indexes.<locals>._unique_indices\u001b[1;34m(inds, dtype)\u001b[0m\n\u001b[0;32m    243\u001b[0m     result \u001b[39m=\u001b[39m result\u001b[39m.\u001b[39mastype(dtype, copy\u001b[39m=\u001b[39m\u001b[39mFalse\u001b[39;00m)\n\u001b[0;32m    244\u001b[0m     \u001b[39mif\u001b[39;00m sort:\n\u001b[1;32m--> 245\u001b[0m         result \u001b[39m=\u001b[39m result\u001b[39m.\u001b[39;49msort_values()\n\u001b[0;32m    246\u001b[0m     \u001b[39mreturn\u001b[39;00m result\n\u001b[0;32m    248\u001b[0m \u001b[39mdef\u001b[39;00m \u001b[39mconv\u001b[39m(i):\n",
      "File \u001b[1;32mc:\\Users\\Baran Taçyıldız\\AppData\\Local\\Programs\\Python\\Python311\\Lib\\site-packages\\pandas\\core\\indexes\\base.py:5847\u001b[0m, in \u001b[0;36mIndex.sort_values\u001b[1;34m(self, return_indexer, ascending, na_position, key)\u001b[0m\n\u001b[0;32m   5844\u001b[0m \u001b[39m# GH 35584. Sort missing values according to na_position kwarg\u001b[39;00m\n\u001b[0;32m   5845\u001b[0m \u001b[39m# ignore na_position for MultiIndex\u001b[39;00m\n\u001b[0;32m   5846\u001b[0m \u001b[39mif\u001b[39;00m \u001b[39mnot\u001b[39;00m \u001b[39misinstance\u001b[39m(\u001b[39mself\u001b[39m, ABCMultiIndex):\n\u001b[1;32m-> 5847\u001b[0m     _as \u001b[39m=\u001b[39m nargsort(\n\u001b[0;32m   5848\u001b[0m         items\u001b[39m=\u001b[39;49m\u001b[39mself\u001b[39;49m, ascending\u001b[39m=\u001b[39;49mascending, na_position\u001b[39m=\u001b[39;49mna_position, key\u001b[39m=\u001b[39;49mkey\n\u001b[0;32m   5849\u001b[0m     )\n\u001b[0;32m   5850\u001b[0m \u001b[39melse\u001b[39;00m:\n\u001b[0;32m   5851\u001b[0m     idx \u001b[39m=\u001b[39m cast(Index, ensure_key_mapped(\u001b[39mself\u001b[39m, key))\n",
      "File \u001b[1;32mc:\\Users\\Baran Taçyıldız\\AppData\\Local\\Programs\\Python\\Python311\\Lib\\site-packages\\pandas\\core\\sorting.py:498\u001b[0m, in \u001b[0;36mnargsort\u001b[1;34m(items, kind, ascending, na_position, key, mask)\u001b[0m\n\u001b[0;32m    496\u001b[0m     non_nans \u001b[39m=\u001b[39m non_nans[::\u001b[39m-\u001b[39m\u001b[39m1\u001b[39m]\n\u001b[0;32m    497\u001b[0m     non_nan_idx \u001b[39m=\u001b[39m non_nan_idx[::\u001b[39m-\u001b[39m\u001b[39m1\u001b[39m]\n\u001b[1;32m--> 498\u001b[0m indexer \u001b[39m=\u001b[39m non_nan_idx[non_nans\u001b[39m.\u001b[39;49margsort(kind\u001b[39m=\u001b[39;49mkind)]\n\u001b[0;32m    499\u001b[0m \u001b[39mif\u001b[39;00m \u001b[39mnot\u001b[39;00m ascending:\n\u001b[0;32m    500\u001b[0m     indexer \u001b[39m=\u001b[39m indexer[::\u001b[39m-\u001b[39m\u001b[39m1\u001b[39m]\n",
      "\u001b[1;31mTypeError\u001b[0m: '<' not supported between instances of 'str' and 'int'"
     ]
    }
   ],
   "source": [
    "# Get a count of all column across all columns\n",
    "my_df.apply(pd.value_counts)"
   ]
  }
 ],
 "metadata": {
  "kernelspec": {
   "display_name": "Python 3",
   "language": "python",
   "name": "python3"
  },
  "language_info": {
   "codemirror_mode": {
    "name": "ipython",
    "version": 3
   },
   "file_extension": ".py",
   "mimetype": "text/x-python",
   "name": "python",
   "nbconvert_exporter": "python",
   "pygments_lexer": "ipython3",
   "version": "3.11.0"
  }
 },
 "nbformat": 4,
 "nbformat_minor": 2
}
